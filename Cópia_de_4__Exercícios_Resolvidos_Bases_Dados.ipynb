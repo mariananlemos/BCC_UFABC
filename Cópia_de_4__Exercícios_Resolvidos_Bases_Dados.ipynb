{
  "nbformat": 4,
  "nbformat_minor": 0,
  "metadata": {
    "colab": {
      "provenance": [],
      "include_colab_link": true
    },
    "kernelspec": {
      "name": "python3",
      "display_name": "Python 3"
    }
  },
  "cells": [
    {
      "cell_type": "markdown",
      "metadata": {
        "id": "view-in-github",
        "colab_type": "text"
      },
      "source": [
        "<a href=\"https://colab.research.google.com/github/mariananlemos/BCC_UFABC/blob/main/C%C3%B3pia_de_4__Exerc%C3%ADcios_Resolvidos_Bases_Dados.ipynb\" target=\"_parent\"><img src=\"https://colab.research.google.com/assets/colab-badge.svg\" alt=\"Open In Colab\"/></a>"
      ]
    },
    {
      "cell_type": "markdown",
      "metadata": {
        "id": "Q4TaCtoXnjnr"
      },
      "source": [
        "#Cadastro de Funcionários"
      ]
    },
    {
      "cell_type": "code",
      "metadata": {
        "id": "JJJ96BK9zjbz"
      },
      "source": [
        "import pandas as pd    #necessario importar biblioteca pandas para todos os exercicios abaixo"
      ],
      "execution_count": null,
      "outputs": []
    },
    {
      "cell_type": "code",
      "metadata": {
        "id": "5WCoMnCDA0y2"
      },
      "source": [
        " df = pd.read_csv(\"https://drive.google.com/u/3/uc?id=1id-MxIdlA5pG0iJROsmxLzsBahvtNExc&export=download\", sep = ';' ) \n",
        " #necessario ler a planilha para todos os exercicios abaixo\n",
        " df"
      ],
      "execution_count": null,
      "outputs": []
    },
    {
      "cell_type": "markdown",
      "metadata": {
        "id": "BVLkuiXE8X1Y"
      },
      "source": [
        "## Lista de Exercícios\n"
      ]
    },
    {
      "cell_type": "markdown",
      "metadata": {
        "id": "rSw9J5sYDIjS"
      },
      "source": [
        "### Exibindo algumas colunas (sem condição)"
      ]
    },
    {
      "cell_type": "code",
      "metadata": {
        "id": "WTFVWj8nfPhO"
      },
      "source": [
        "#1 Listar colunas (atributos): Codigo, Escolaridade e Salario dos Funcionários\n",
        "print(df[[\"Codigo\", \"Escolaridade\", \"Salario\"]])"
      ],
      "execution_count": null,
      "outputs": []
    },
    {
      "cell_type": "markdown",
      "metadata": {
        "id": "PhnnUPar988I"
      },
      "source": [
        "### Exibindo algumas linhas (com condição) - Filtros"
      ]
    },
    {
      "cell_type": "code",
      "metadata": {
        "id": "t4cleWRM-BJi"
      },
      "source": [
        "#2 Listar os dados dos funcionários com idade acima de 50 anos\n",
        "print(df.query(\"Idade_Anos > 50\"))"
      ],
      "execution_count": null,
      "outputs": []
    },
    {
      "cell_type": "code",
      "metadata": {
        "id": "Oe__u7nS-pcG"
      },
      "source": [
        "#3 Listar os dados dos funcionários com idade acima de 50 anos e Genero Masculino\n",
        "# letra M está entre aspas simples pois é considerado um texto.\n",
        "print(df.query(\"Idade_Anos > 50 and Genero == 'M'\"))"
      ],
      "execution_count": null,
      "outputs": []
    },
    {
      "cell_type": "code",
      "metadata": {
        "id": "oA8WInDH_emN"
      },
      "source": [
        "#4 Listar os dados dos funcionários com escolaridade Superior\n",
        "print(df.query(\"Escolaridade == 'Superior'\"))"
      ],
      "execution_count": null,
      "outputs": []
    },
    {
      "cell_type": "code",
      "metadata": {
        "id": "A3s4gQp1Ao9d"
      },
      "source": [
        "#5 Listar os dados dos funcionários com escolaridade 2o Grau e Salario maior ou igual que 10000\n",
        "print(df.query(\"Escolaridade == '2o Grau' and Salario >= 10000\"))"
      ],
      "execution_count": null,
      "outputs": []
    },
    {
      "cell_type": "markdown",
      "metadata": {
        "id": "yQz5E8QQBb3I"
      },
      "source": [
        "### Exibindo algumas colunas de algumas linhas (com condição) - Filtros em somente algumas colunas "
      ]
    },
    {
      "cell_type": "code",
      "metadata": {
        "id": "jEbjWqMQ-4Ls"
      },
      "source": [
        "#6 Listar Codigo, Genero, Idade e Salario dos funcionários com idade acima de 50 anos e Genero Feminino\n",
        "df_filtrada=df.query(\"Idade_Anos > 50 and Genero == 'F'\")\n",
        "df_final=df_filtrada[[\"Codigo\",\"Genero\",\"Idade_Anos\",\"Salario\"]]\n",
        "print(df_final)"
      ],
      "execution_count": null,
      "outputs": []
    },
    {
      "cell_type": "code",
      "metadata": {
        "id": "_AkvMZSY3UyY"
      },
      "source": [
        "#6 Listar Codigo, Genero, Idade e Salario dos funcionários com idade acima de 50 anos e Genero Feminino\n",
        "# Outra solução\n",
        "# Nesta solução, mais curta, as três linhas de solução anterior são feitas em uma única linha\n",
        "print(df[[\"Codigo\",\"Genero\",\"Idade_Anos\", \"Salario\"]].query(\"Idade_Anos > 50 and Genero == 'F'\"))\n",
        "# As duas formas estão corretas"
      ],
      "execution_count": null,
      "outputs": []
    },
    {
      "cell_type": "code",
      "metadata": {
        "id": "DLmhVa5NDf6m"
      },
      "source": [
        "#7 Listar Codigo, Escolaridade, Idade e Salario dos funcionários com Escolaridade 1o Grau\n",
        "print(df[[\"Codigo\",\"Escolaridade\",\"Idade_Anos\", \"Salario\"]].query(\"Escolaridade == '1o Grau'\"))"
      ],
      "execution_count": null,
      "outputs": []
    },
    {
      "cell_type": "markdown",
      "metadata": {
        "id": "HvVoJOrJP-0j"
      },
      "source": [
        "### Exibindo dados ordenados (Ordenação)"
      ]
    },
    {
      "cell_type": "code",
      "metadata": {
        "id": "q1PMMLKGQLjA"
      },
      "source": [
        "#8 Listar os dados em ordem crescente de Idade\n",
        "print(df.sort_values(by=\"Idade_Anos\"))"
      ],
      "execution_count": null,
      "outputs": []
    },
    {
      "cell_type": "code",
      "metadata": {
        "id": "Y3lJ2cp8Qe9A"
      },
      "source": [
        "#9 Listar os dados em ordem crescente de escolaridade e salário.\n",
        "print(df.sort_values(by=[\"Escolaridade\", \"Salario\"]))"
      ],
      "execution_count": null,
      "outputs": []
    },
    {
      "cell_type": "code",
      "metadata": {
        "id": "O949e6y2RhJs"
      },
      "source": [
        "#10 Listar os dados em ordem crescente de escolaridade e decrescente de salário.\n",
        "print(df.sort_values(by=[\"Escolaridade\", \"Salario\"],ascending=[True, False]))"
      ],
      "execution_count": null,
      "outputs": []
    },
    {
      "cell_type": "markdown",
      "metadata": {
        "id": "ubgfwY_zSEM2"
      },
      "source": [
        "### Estatísticas do Dataframe"
      ]
    },
    {
      "cell_type": "code",
      "metadata": {
        "id": "qwruVzoHR0hD"
      },
      "source": [
        "#11 Lista o menor valor dos atributos numéricos.\n",
        "print(df.min())"
      ],
      "execution_count": null,
      "outputs": []
    },
    {
      "cell_type": "code",
      "metadata": {
        "id": "IAE4CpgnSY5-"
      },
      "source": [
        "#12 Exibir a Média das Idades com duas casas decimais\n",
        "resultado = df[\"Idade_Anos\"].mean() # calculando a média das Idades\n",
        "print(\"%.2f\" % resultado)           # imprimindo o resultado com 2 casas decimais"
      ],
      "execution_count": null,
      "outputs": []
    },
    {
      "cell_type": "code",
      "metadata": {
        "id": "RH1TQkiXSnTF"
      },
      "source": [
        "#13 Exibir o Maior Salário\n",
        "print(df[\"Salario\"].max())"
      ],
      "execution_count": null,
      "outputs": []
    },
    {
      "cell_type": "code",
      "metadata": {
        "id": "gGdmfc98Uvjk"
      },
      "source": [
        "#14 Exibir a soma de todos os salários da empresa\n",
        "print(df[\"Salario\"].sum())"
      ],
      "execution_count": null,
      "outputs": []
    },
    {
      "cell_type": "markdown",
      "metadata": {
        "id": "7I_V7ac0TGR9"
      },
      "source": [
        "### Agrupamento de Dados"
      ]
    },
    {
      "cell_type": "code",
      "metadata": {
        "id": "ivG4ONxNTIxF"
      },
      "source": [
        "#15 Exibir a quantidade de funcionários por escolaridade\n",
        "print(df.groupby(\"Escolaridade\")[\"Codigo\"].count())"
      ],
      "execution_count": null,
      "outputs": []
    },
    {
      "cell_type": "code",
      "metadata": {
        "id": "wN_sgw9lTnFb"
      },
      "source": [
        "#16 Exibir o maior salário por Escolaridade\n",
        "print(df.groupby(\"Escolaridade\")[\"Salario\"].max())"
      ],
      "execution_count": null,
      "outputs": []
    },
    {
      "cell_type": "code",
      "metadata": {
        "id": "YtstELGlT0xj"
      },
      "source": [
        "#17 Exibir a média de salário por Gênero\n",
        "print(df.groupby(\"Genero\")[\"Salario\"].mean())"
      ],
      "execution_count": null,
      "outputs": []
    },
    {
      "cell_type": "code",
      "metadata": {
        "id": "quxMUvTZUQZX"
      },
      "source": [
        "#18 Exibir o Tempo Médio (em meses) na Empresa, por grau de Escolaridade\n",
        "print(df.groupby(\"Escolaridade\")[\"Tempo_Meses\"].mean())"
      ],
      "execution_count": null,
      "outputs": []
    },
    {
      "cell_type": "markdown",
      "metadata": {
        "id": "y2ETsQsCtWPE"
      },
      "source": [
        "### Manipulando Planilha e comando `input`"
      ]
    },
    {
      "cell_type": "code",
      "metadata": {
        "id": "ZL8_Nl1BuOzO"
      },
      "source": [
        "#19 Listar os dados em ordem decrescente da coluna que você vai entrar via comando input: Codigo, Salario, Idade_Anos ou Tempo_Meses\n",
        "coluna=input(\"Digite o nome da coluna/atributo \")     # o nome da coluna  digitado eh atribuido a variavel coluna\n",
        "print(df.sort_values(by=coluna,ascending=[False]))    # note que aqui coluna nao pode ficar entre aspas duplas, pois o seu conteudo ja eh um texto"
      ],
      "execution_count": null,
      "outputs": []
    },
    {
      "cell_type": "code",
      "metadata": {
        "id": "xO2-SbyNqpfc"
      },
      "source": [
        "#20 Exibir o Tempo Médio (em meses) na Empresa, por coluna que você vai entrar via comando input: Escolaridade ou Genero \n",
        "coluna=input(\"Digite o nome da coluna/atributo \")   # o nome da coluna  digitado eh atribuido a variavel coluna\n",
        "print(df.groupby(coluna)[\"Tempo_Meses\"].mean())     # note que aqui coluna nao pode ficar entre aspas duplas, pois o seu conteudo ja eh um texto"
      ],
      "execution_count": null,
      "outputs": []
    },
    {
      "cell_type": "code",
      "metadata": {
        "id": "X8IwfcONmRek"
      },
      "source": [
        "#21 Listar os dados dos funcionários com escolaridade que você vai entrar via comando input (2o Grau, 1o Grau ou Superior) e Salario maior ou igual que 5000\n",
        "escola = input(\"Digite a escolaridade \")\n",
        "df_filtrada = df.query(\"Escolaridade == '\"+escola+\"' and Salario >= 5000\")\n",
        "print(df_filtrada)"
      ],
      "execution_count": null,
      "outputs": []
    },
    {
      "cell_type": "markdown",
      "metadata": {
        "id": "TK3eojTW-env"
      },
      "source": [
        "IMPORTANTE:\n",
        "\n",
        "Observe a sintaxe na terceira linha no programa acima\n",
        "\n",
        "**Escolaridade == '  \" +escola+ \"   '**\n",
        "\n",
        "Quando desejamos filtrar dados usando um atributo, por exemplo `Escolaridade`, cujos elementos não são números, mas sim, um **texto** (no caso, graus de escolaridade), fazemos:\n",
        "\n",
        "1) Entramos com o nome de Escolaridade (elemento de atributo) via teclado com comando `input()` - por exemplo: 1o Grau, 2o Grau, Superior.\n",
        "\n",
        "2) Atribuímos este valor lido  à uma variável, chamada, como no exemplo acima, `escola`\n",
        "\n",
        "3) Usamos:\n",
        "\n",
        "**Escolaridade == ' \" +escola+ \" '** para filtrar os elementos da coluna Escolaridade iguais ao nome/elemento digitado via teclado `input() `\n",
        "\n",
        "Ou seja, no caso geral:\n",
        "\n",
        " **nome_atributo == ' \" +nome_variável+\" '**"
      ]
    }
  ]
}