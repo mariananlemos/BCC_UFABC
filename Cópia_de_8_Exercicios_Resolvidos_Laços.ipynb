{
  "nbformat": 4,
  "nbformat_minor": 0,
  "metadata": {
    "kernelspec": {
      "display_name": "Python 3",
      "language": "python",
      "name": "python3"
    },
    "language_info": {
      "codemirror_mode": {
        "name": "ipython",
        "version": 3
      },
      "file_extension": ".py",
      "mimetype": "text/x-python",
      "name": "python",
      "nbconvert_exporter": "python",
      "pygments_lexer": "ipython3",
      "version": "3.6.5"
    },
    "colab": {
      "provenance": [],
      "include_colab_link": true
    }
  },
  "cells": [
    {
      "cell_type": "markdown",
      "metadata": {
        "id": "view-in-github",
        "colab_type": "text"
      },
      "source": [
        "<a href=\"https://colab.research.google.com/github/mariananlemos/BCC_UFABC/blob/main/C%C3%B3pia_de_8_Exercicios_Resolvidos_Lac%CC%A7os.ipynb\" target=\"_parent\"><img src=\"https://colab.research.google.com/assets/colab-badge.svg\" alt=\"Open In Colab\"/></a>"
      ]
    },
    {
      "cell_type": "markdown",
      "metadata": {
        "id": "zuICe8_IfwV4"
      },
      "source": [
        "Sugere-se executar os códigos deste Notebook com pelo menos três sequências de entradas diferentes.\n",
        "\n",
        "Recomenda-se ainda simular a mão o algoritmo  (escrever os conteúdos de cada variável) para os valores para quais o algoritmo passe poucas  vezes pelo laço (de uma a quatro vezes).\n",
        "\n",
        "Isso pode facilitar o entendimento de algoritmo."
      ]
    },
    {
      "cell_type": "markdown",
      "metadata": {
        "id": "9EWlLfS5xFba"
      },
      "source": [
        "## Exercício 1.\n",
        "\n",
        "Faça um programa que pede para o usuário digitar uma senha.\n",
        "\n",
        "Ele deve ter no máximo 3 tentativas. A senha correta é 1234 \n",
        "\n",
        "Em cada tentativa,\n",
        "* Se ele acertar, diga que ele acertou e encerre o programa.\n",
        "* Se ele errar, diga que a senha está errada e dê mais uma tentativa (**com um limite de 3 tentativas**)"
      ]
    },
    {
      "cell_type": "code",
      "metadata": {
        "colab": {
          "base_uri": "https://localhost:8080/"
        },
        "id": "0L47vOngKYF-",
        "outputId": "0af20af6-7167-4d43-8da7-364428937601"
      },
      "source": [
        "for i in range(0,3): # i vai assumir três  valores: 0, 1 e 2\n",
        "    tentativa = int(input(\"Digite uma senha com 4 digitos: \")) # entrada de tentativa da senha \n",
        "    if tentativa == 1234: # caso acertou\n",
        "        print(\"Acertou!\") # imprime mensagem\n",
        "        break             # saia do laco\n",
        "    else:                 # se errou\n",
        "        print(\"Errou.\")   # imprime mensagem  "
      ],
      "execution_count": null,
      "outputs": [
        {
          "output_type": "stream",
          "text": [
            "Digite uma senha com 4 digitos: 1223\n",
            "Errou.\n",
            "Digite uma senha com 4 digitos: 1234\n",
            "Acertou!\n"
          ],
          "name": "stdout"
        }
      ]
    },
    {
      "cell_type": "markdown",
      "metadata": {
        "id": "l9BRE70J1Fjw"
      },
      "source": [
        "## Exercício 2.\n",
        "\n",
        "Faça um programa que pede para o usuário digitar uma senha.\n",
        "\n",
        "A senha correta é 1234 \n",
        "\n",
        "Em cada tentativa,\n",
        "* Se ele acertar, diga que ele acertou e encerre o programa.\n",
        "* Se ele errar, diga que a senha está errada e dê mais uma tentativa (**não há limite de tentativas**)."
      ]
    },
    {
      "cell_type": "code",
      "metadata": {
        "colab": {
          "base_uri": "https://localhost:8080/"
        },
        "id": "Di6EVEOLMQIy",
        "outputId": "fc985a42-d34a-4406-ae51-36883638ab13"
      },
      "source": [
        "tentativa = int(input(\"Digite uma senha com 4 digitos: \"))      # entrada da primeira senha\n",
        "while (tentativa != 1234):   # laco while se repete enquanto senha NAO for correta \n",
        "        print(\"Errou.\")                                              # mensagem\n",
        "        tentativa = int(input(\"Digite uma senha com 4 digitos: \"))   # nova tentativa\n",
        "print(\"Acertou!\")   # quando saimos de laco, significa que o usuario acertou"
      ],
      "execution_count": null,
      "outputs": [
        {
          "output_type": "stream",
          "text": [
            "Digite uma senha com 4 digitos: 1356\n",
            "Errou.\n",
            "Digite uma senha com 4 digitos: 1225\n",
            "Errou.\n",
            "Digite uma senha com 4 digitos: 3346\n",
            "Errou.\n",
            "Digite uma senha com 4 digitos: 5678\n",
            "Errou.\n",
            "Digite uma senha com 4 digitos: 4432\n",
            "Errou.\n",
            "Digite uma senha com 4 digitos: 1234\n",
            "Acertou!\n"
          ],
          "name": "stdout"
        }
      ]
    },
    {
      "cell_type": "markdown",
      "metadata": {
        "id": "dwJgC0c8MGLF"
      },
      "source": [
        "Outra maneira de fazer:\n"
      ]
    },
    {
      "cell_type": "code",
      "metadata": {
        "colab": {
          "base_uri": "https://localhost:8080/"
        },
        "id": "-b_3DosKMVC7",
        "outputId": "c81e0008-702c-4bb6-fbca-97281392930b"
      },
      "source": [
        "auxiliar = 0             # inicializamos a variavel auxiliar com 0\n",
        "while (auxiliar == 0):   # laco while se repete enquanto valor de variavel auxiliar for 0\n",
        "    tentativa = int(input(\"Digite uma senha com 4 digitos: \"))\n",
        "    if tentativa == 1234:\n",
        "        print(\"Acertou!\")\n",
        "        auxiliar = 1     # quando usuario acertar, trocamos valor de variavel auxiliar para 1. Assim, o programa nao ira entrar mais no bloco de laco while.\n",
        "    else:\n",
        "        print(\"Errou.\")      "
      ],
      "execution_count": null,
      "outputs": [
        {
          "output_type": "stream",
          "text": [
            "Digite uma senha com 4 digitos: 1356\n",
            "Errou.\n",
            "Digite uma senha com 4 digitos: 1225\n",
            "Errou.\n",
            "Digite uma senha com 4 digitos: 3346\n",
            "Errou.\n",
            "Digite uma senha com 4 digitos: 5678\n",
            "Errou.\n",
            "Digite uma senha com 4 digitos: 4432\n",
            "Errou.\n",
            "Digite uma senha com 4 digitos: 1234\n",
            "Acertou!\n"
          ],
          "name": "stdout"
        }
      ]
    },
    {
      "cell_type": "markdown",
      "metadata": {
        "id": "hNyIZ4sFp3oU"
      },
      "source": [
        "## Exercício 3."
      ]
    },
    {
      "cell_type": "markdown",
      "metadata": {
        "id": "cg0RaXvNp1pQ"
      },
      "source": [
        "Escreva um programa para ler várias tentativas de senhas de diferentes usuários, até algum usuário digitar zero.\n",
        "\n",
        "A senha correta é 1234 \n",
        "\n",
        "Imprimir todas as senhas lidas, e quando algum usuário acertar, imprimir \"Senha correta\". Indicar ainda quantas senhas corretas foram lidas. E quantas senhas no total foram lidas."
      ]
    },
    {
      "cell_type": "code",
      "metadata": {
        "colab": {
          "base_uri": "https://localhost:8080/"
        },
        "id": "xCXHWLucqTvb",
        "outputId": "b89a284d-511c-4376-fffd-522d522041b2"
      },
      "source": [
        "soma_correta = 0    # inicializamos a soma de senhas corretas lidas por 0\n",
        "soma_total = 0      # inicializamos a soma total de senhas lidas com zero\n",
        "\n",
        "tentativa = int(input(\"Digite uma senha de 4 números: \"))    # entrada da primeira senha\n",
        "\n",
        "while (tentativa!=0):      # enquanto tentativa nao eh zero (saimos de laco quando usuario digitar zero)                      \n",
        "    if  tentativa == 1234:        # se senha lida eh 1234\n",
        "        print(tentativa, \"Senha correta\")      # imprimimos senha e a mensagem (dentro de if)\n",
        "        soma_correta = soma_correta +1         # soma de numero de senhas corretas eh aumentada por 1 (dentro de if)\n",
        "    else:\n",
        "        print(tentativa)         # caso contrario, só imprima a tentativa\n",
        "    tentativa = int(input(\"Digite uma senha de 4 números: \"))     # entrada de proxima tentativa de senha  (dentro de while, mas fora de if/else)\n",
        "    soma_total = soma_total + 1                                   # soma total de senhas lidas eh aumentada por 1  (dentro de while, mas fora de if/else)  \n",
        "\n",
        "print(\"Foram lidas\", soma_correta, \"senhas corretas\")   # no final, fora de laco while, imprimimos quantas senhas corretas foram lidas\n",
        "print(\"Foram lidas\", soma_total, \"senhas no total\")     # no final, fora de laco while, imprimimos quantas senhas no total foram lidas"
      ],
      "execution_count": null,
      "outputs": [
        {
          "output_type": "stream",
          "text": [
            "Digite uma senha de 4 números: 1125\n",
            "1125\n",
            "Digite uma senha de 4 números: 6784\n",
            "6784\n",
            "Digite uma senha de 4 números: 1234\n",
            "1234 Senha correta\n",
            "Digite uma senha de 4 números: 2236\n",
            "2236\n",
            "Digite uma senha de 4 números: 1234\n",
            "1234 Senha correta\n",
            "Digite uma senha de 4 números: 5546\n",
            "5546\n",
            "Digite uma senha de 4 números: 0\n",
            "Foram lidas 2 senhas corretas\n",
            "Foram lidas 6 senhas no total\n"
          ],
          "name": "stdout"
        }
      ]
    },
    {
      "cell_type": "markdown",
      "metadata": {
        "id": "RgQ7vORIQTeR"
      },
      "source": [
        "## Exercício 4."
      ]
    },
    {
      "cell_type": "markdown",
      "metadata": {
        "id": "iPSdFFEsRsuC"
      },
      "source": [
        "Faça um programa que\n",
        "\n",
        "1) Recebe um número inteiro - limite inferior do usuário (via comando input)\n",
        "\n",
        "2) Recebe um número inteiro - limite superior do usuário (via comando input)\n",
        "\n",
        "3) Calcule e imprima a SOMA de todos os números pares contidos nesse intervalo.\n",
        "\n",
        "4) Calcule e imprima a SOMA  de todos os números ímpares contidos nesse intervalo.\n",
        "\n",
        "OBS: Suponha que o limite inferior digitado é menor que o limite superior. \n"
      ]
    },
    {
      "cell_type": "code",
      "metadata": {
        "colab": {
          "base_uri": "https://localhost:8080/"
        },
        "id": "h6HwUjkqTk18",
        "outputId": "4acc96f8-3540-42c9-f8c5-2d50e1c15d4e"
      },
      "source": [
        "somapar = 0    # inicializamos a soma de numeros pares com zero \n",
        "somaimpar = 0  # inicializamos a soma de numeros impares com zero \n",
        "\n",
        "inf = int(input(\"Digite um numero inteiro - limite inferior: \"))                             # entrada de limite inferior\n",
        "sup = int(input(\"Digite um numero inteiro - limite superior (maior que limite inferior): \")) # entrada de limite superior\n",
        "\n",
        "for i in range(inf,sup+1):         # Importante: o valor inicial dentro de range eh inf e valor final eh sup+1\n",
        "    if i%2 == 0:                   # se numero i eh par (pois o resto de divisao por 2 eh zero)\n",
        "        somapar = somapar + i      # aumentamos somapar por i\n",
        "    else:                          # caso contrario, numero i eh impar (pois o resto de divisao por 2 nao eh zero)\n",
        "        somaimpar = somaimpar + i  # aumentamos somaimpar por i  \n",
        "\n",
        "print(\"A soma de numeros pares contidos no intervalo =\", somapar)      # imprimimos a soma de numeros pares no final de algoritmo (apos sair de laco for)\n",
        "print(\"A soma de numeros impares contidos no intervalo =\", somaimpar)  # imprimimos a soma de numeros impares no final de algoritmo (apos sair de laco for)        "
      ],
      "execution_count": null,
      "outputs": [
        {
          "output_type": "stream",
          "text": [
            "Digite um numero inteiro - limite inferior: 2\n",
            "Digite um numero inteiro - limite superior (maior que limite inferior): 8\n",
            "A soma de numeros pares contidos no intervalo = 20\n",
            "A soma de numeros impares contidos no intervalo = 15\n"
          ],
          "name": "stdout"
        }
      ]
    },
    {
      "cell_type": "markdown",
      "metadata": {
        "id": "lJr5T_1lVsdr"
      },
      "source": [
        "Note que de fato, quando limite inferior é 2 e limite superior 8:\n",
        "\n",
        "a soma de números pares no intervalo [2,8] é 2+4+6+8=20.\n",
        "\n",
        "a soma de números ímpares no intervalo [2,8] é 3+5+7=15."
      ]
    },
    {
      "cell_type": "markdown",
      "metadata": {
        "id": "b-fGRi_KYOjc"
      },
      "source": [
        "## Exercício 5."
      ]
    },
    {
      "cell_type": "markdown",
      "metadata": {
        "id": "mYpWjxCWYOjf"
      },
      "source": [
        "Faça um programa que\n",
        "\n",
        "1) Recebe um número inteiro - limite inferior do usuário (via comando input)\n",
        "\n",
        "2) Recebe um número inteiro - limite superior do usuário (via comando input)\n",
        "\n",
        "3) Calcule e imprima a QUANTIDADE de números pares contidos nesse intervalo.\n",
        "\n",
        "4) Calcule e imprima a QUANTIDADE de números ímpares contidos nesse intervalo.\n",
        "\n",
        "OBS: Suponha que o limite inferior digitado é menor que o limite superior. \n"
      ]
    },
    {
      "cell_type": "code",
      "metadata": {
        "colab": {
          "base_uri": "https://localhost:8080/"
        },
        "id": "o-d4G2YoYOjg",
        "outputId": "a0907ee5-ab43-4155-bdff-7ec3c41ea689"
      },
      "source": [
        "contadorpar = 0    # inicializamos a quantidade de numeros pares com zero \n",
        "contadorimpar = 0  # inicializamos a quantidade de numeros impares com zero \n",
        "\n",
        "inf = int(input(\"Digite um numero inteiro - limite inferior: \"))                             # entrada de limite inferior\n",
        "sup = int(input(\"Digite um numero inteiro - limite superior (maior que limite inferior): \")) # entrada de limite superior\n",
        "\n",
        "for i in range(inf,sup+1):         # Importante: o valor inicial dentro de range eh inf e valor final eh sup+1\n",
        "    if i%2 == 0:                   # se numero i eh par\n",
        "        contadorpar = contadorpar + 1      # aumentamos contadorpar por 1\n",
        "    else:                          # caso contrario, numero i eh impar\n",
        "        contadorimpar = contadorimpar + 1  # aumentamos contadorimpar por 1  \n",
        "\n",
        "print(\"A quantidade de numeros pares contidos no intervalo =\", contadorpar)     # imprimimos a quantidade de numeros pares (apos sair de laco for)\n",
        "print(\"A quantidade de numeros impares contidos no intervalo =\", contadorimpar) # imprimimos a quantidade de numeros impares (apos sair de laco for)        "
      ],
      "execution_count": null,
      "outputs": [
        {
          "output_type": "stream",
          "text": [
            "Digite um numero inteiro - limite inferior: 2\n",
            "Digite um numero inteiro - limite superior (maior que limite inferior): 8\n",
            "A quantidade de numeros pares contidos no intervalo = 4\n",
            "A quantidade de numeros impares contidos no intervalo = 3\n"
          ],
          "name": "stdout"
        }
      ]
    },
    {
      "cell_type": "markdown",
      "metadata": {
        "id": "qQqi-7Ribf4o"
      },
      "source": [
        "## Exercício 6."
      ]
    },
    {
      "cell_type": "markdown",
      "metadata": {
        "id": "yloNrqMrbk0H"
      },
      "source": [
        "Escreva um programa que solicita ao usuário para informar uma quantidade positiva de números inteiros positivos. Depois leia esses números inteiros (suponha que todos os números informados sejam inteiros positivos).  \n",
        "\n",
        "Calcule e escreva a média aritmética apenas dos números pares lidos.\n"
      ]
    },
    {
      "cell_type": "code",
      "metadata": {
        "colab": {
          "base_uri": "https://localhost:8080/"
        },
        "id": "g9W4rN_rcEE9",
        "outputId": "706d94bd-6473-4cc5-8704-10b931c79c61"
      },
      "source": [
        "quant = int(input(\"Digite a quantidade desejada de numeros (um inteiro positivo): \"))    # entrada de quantidade positiva de números inteiros positivos.\n",
        "\n",
        "contadorpar = 0 # inicializamos a quantidade de numeros pares com zero. Precisaremos este numero para calcular a media aritmetica\n",
        "somapar = 0     # inicializamos a soma de numeros pares com zero \n",
        "\n",
        "for i in range(0,quant):   # Importante: o valor inicial dentro de range eh 0, e valor final eh quant (valor lido acima - quantidade desejada de numeros a serem lidos)\n",
        "    num = int(input(\"Digite o número da sequencia (um inteiro positivo): \")) # entrada de i-esimo valor de sequencia\n",
        "    if num%2 == 0:                          # se numero lido eh par\n",
        "        contadorpar = contadorpar + 1       # aumentamos contadorpar por 1\n",
        "        somapar = somapar + num             # aumentamos somapar por num (numero lido)\n",
        "\n",
        "if (contadorpar > 0):  # a media aritmetica existe somente se o usuario digitou pelo menos um numero par\n",
        "     print(\"A media aritmetica de numeros pares lidos = %.2f\"%(somapar/contadorpar)) # imprimimos o resultado - media aritmetica de numeros pares lidos, que é divisao de soma de numeros pares pela quantidade deles\n",
        "else:\n",
        "     print(\"Nao ha numeros pares na sequencia digitada\")     # se não foi digitado nenhum numero par, imprimimos \"Nao ha numeros pares na sequencia digitada\""
      ],
      "execution_count": null,
      "outputs": [
        {
          "output_type": "stream",
          "text": [
            "Digite a quantidade desejada de numeros (um inteiro positivo): 6\n",
            "Digite o número da sequencia (um inteiro positivo): 3\n",
            "Digite o número da sequencia (um inteiro positivo): 4\n",
            "Digite o número da sequencia (um inteiro positivo): 6\n",
            "Digite o número da sequencia (um inteiro positivo): 8\n",
            "Digite o número da sequencia (um inteiro positivo): 2\n",
            "Digite o número da sequencia (um inteiro positivo): 1\n",
            "A media aritmetica de numeros pares lidos = 5.00\n"
          ],
          "name": "stdout"
        }
      ]
    },
    {
      "cell_type": "markdown",
      "metadata": {
        "id": "LMNDcSNbjYwi"
      },
      "source": [
        "## Exercício 7."
      ]
    },
    {
      "cell_type": "markdown",
      "metadata": {
        "id": "BqBo9E6tjeCo"
      },
      "source": [
        "Escreva um algoritmo que calcule $n!$ (fatorial de $n$), sendo que o valor inteiro de n é fornecido pelo usuário. Suponha que o valor $n$ é positivo. Sabe-se que:\n",
        "\n",
        "$n! = n * (n-1) * (n-2) * ... * 2*1$, se $n>0$, e\n",
        "\n",
        "$0! = 1$, por definição.\n",
        "\n",
        "Por exemplo,\n",
        "\n",
        "$5! = 5 * 4 * 3 * 2 * 1 = 120$."
      ]
    },
    {
      "cell_type": "code",
      "metadata": {
        "colab": {
          "base_uri": "https://localhost:8080/"
        },
        "id": "3ihqslsbkitm",
        "outputId": "69b8afb0-5c3a-426a-d69b-e3b7012aef1f"
      },
      "source": [
        "n = int(input(\"Digite um inteiro positivo n: \"))    # entrada de numero n\n",
        "\n",
        "resultado = 1  # inicializamos resultado com valor 1\n",
        "\n",
        "for i in range(1,n+1):      # Importante: o valor inicial dentro de range eh 1 (pois na linha 7 estamos multiplicando por i, e portanto i nao pode comecar com zero)\n",
        "                            # Como valor inicial de i eh 1, o valor final eh n+1 (queremos entrar no laco n vezes)\n",
        "    if n  == 0:             # se n eh zero\n",
        "        resultado = 1       # resultado eh 1 por definicao\n",
        "    else:                   # se n nao eh zero\n",
        "        resultado = resultado * i  # multiplicamos o resultado anterior por i e atribuimos o valor obtido a mesma variavel, que eh resultado (ou seja, atualizamos o valor de resultado)\n",
        "                    \n",
        " eh\", resultado) # imprimimos o resultado no final, apos sair de laco"
      ],
      "execution_count": null,
      "outputs": [
        {
          "output_type": "stream",
          "text": [
            "Digite um inteiro positivo n: 5\n",
            "Fatorial de numero 5 eh 120\n"
          ],
          "name": "stdout"
        }
      ]
    },
    {
      "cell_type": "markdown",
      "metadata": {
        "id": "0k8j9OCKnbBh"
      },
      "source": [
        "Neste algoritmo é muito útil ver como o fatorial é calculado a cada passo.\n",
        "\n",
        "Iremos então no algoritmo abaixo adicionar a impressão do valor de resultado a cada passo (dentro de else), só para entender melhor o funcionamento do programa.\n"
      ]
    },
    {
      "cell_type": "code",
      "metadata": {
        "colab": {
          "base_uri": "https://localhost:8080/"
        },
        "id": "zqmQHjxBn7my",
        "outputId": "a12a5bb7-68ad-4183-875c-2c1af3e6c4d2"
      },
      "source": [
        "n = int(input(\"Digite um inteiro positivo n: \"))    # entrada de numero n\n",
        "\n",
        "resultado = 1  # inicializamos resultado com valor 1\n",
        "\n",
        "for i in range(1,n+1):      # Importante: o valor inicial dentro de range eh 1 (pois na linha 7 estamos multiplicando por i (e portanto i nao pode comecar com zero)\n",
        "                            # Como valor inicial de i eh 1, o valor final eh n+1 (queremos entrar no laco n vezes)\n",
        "    if n  == 0:             # se n eh 0\n",
        "        resultado = 1       # resultado eh 1 por definicao\n",
        "    else:\n",
        "        print(\"Resultado no passo\", i, \"eh\", resultado, \"*\", i, \"=\", resultado*i) # passo nao pedido no exercicio, mas pode facilita o entendimento de algoritmo\n",
        "        resultado = resultado * i  # multiplicamos o resultado anterior por i \n",
        "        \n",
        "print(\"Fatorial de numero\", n, \"eh\", resultado) "
      ],
      "execution_count": null,
      "outputs": [
        {
          "output_type": "stream",
          "text": [
            "Digite um inteiro positivo n: 5\n",
            "Resultado no passo 1 eh 1 * 1 = 1\n",
            "Resultado no passo 2 eh 1 * 2 = 2\n",
            "Resultado no passo 3 eh 2 * 3 = 6\n",
            "Resultado no passo 4 eh 6 * 4 = 24\n",
            "Resultado no passo 5 eh 24 * 5 = 120\n",
            "Fatorial de numero 5 eh 120\n"
          ],
          "name": "stdout"
        }
      ]
    },
    {
      "cell_type": "markdown",
      "metadata": {
        "id": "L__twfdrk1cQ"
      },
      "source": [
        "Pergunta: Pense o que acontece se invertemos as linhas 7 e 8 no algoritmo acima (por exemplo quando o valor de entrada digitado é 5)? O algoritmo vai imprimir a sequência correta de números que devem ser impressos: 1, 2, 6, 24, 120?\n",
        "Ou seja, a ordem das linhas 7 e 8 importa? Porque?"
      ]
    },
    {
      "cell_type": "markdown",
      "metadata": {
        "id": "epDWiBbsn12t"
      },
      "source": [
        "## Exercício 8."
      ]
    },
    {
      "cell_type": "markdown",
      "metadata": {
        "id": "G3p3VVzsn6HA"
      },
      "source": [
        "A série de Fibonacci é formada pela seguinte sequência; 1, 1, 2, 3, 5, 8, 13, 21, 34, 55, ..., etc. Escreva um algoritmo que imprima a série de Fibonacci até o $n$-ésimo termo. O valor de $n$ deverá ser solicitado pelo usuário.\n",
        "\n",
        "A sequência recebeu o nome do matemático italiano Leonardo de Pisa, mais conhecido por Fibonacci, que descreveu, no ano de 1202, o crescimento de uma população de coelhos, a partir desta sequência.\n",
        "\n",
        "Em termos matemáticos, a sequência é definida pela fórmula abaixo:\n",
        "\n",
        "$F_n = F_{n − 1} + F_{n − 2}$, se $n>2$\n",
        "\n",
        "e valores iniciais são:\n",
        "\n",
        "$F_1 = 1 , F_2 = 1$, por definição."
      ]
    },
    {
      "cell_type": "code",
      "metadata": {
        "colab": {
          "base_uri": "https://localhost:8080/"
        },
        "id": "sUtZIdDuwheu",
        "outputId": "99f5c43a-95b4-47d3-ab78-a287cbae3b1b"
      },
      "source": [
        "n = int(input(\"Digite um inteiro positivo n: \"))    # entrada de numero n\n",
        "\n",
        "ultimo = 1      # inicializamos numero fibonacci a ser impresso com valor 1\n",
        "penultimo = 0   # inicializamos a variavel auxiliar (que chamamos de penultimo) com zero\n",
        "\n",
        "for i in range(1,n+1):      # Importante: o valor inicial dentro de range eh 1 e final eh n+1\n",
        "                           \n",
        "    if i  == 1:             # se i eh 1, estamos na primeira passada pelo laco while.\n",
        "        print(ultimo)       # imprimimos o primeiro numero fibonacci. Note que o valor da variavel ultimo eh de fato 1 aqui, pois foi inicializado por 1\n",
        "    else:\n",
        "        # print(ultimo+penultimo, \"=\", ultimo, \"+\" ,penultimo) \n",
        "        # descomente a linha acima caso quera ver como a sequenca eh formada, passo a passo\n",
        "        ultimo = ultimo + penultimo # aqui, somamos o ultimo numero, com o penultimo e atribuimos esta soma a variavel ultimo (ou seja, atualizamos o valor de ultimo)\n",
        "        print(ultimo)               # imprimimos o valor de ultimo, que eh i-esimo numero fibonacci\n",
        "        penultimo = ultimo - penultimo # atualizamos o valor de variavel auxiliar (que chamamos de penultimo)"
      ],
      "execution_count": null,
      "outputs": [
        {
          "output_type": "stream",
          "text": [
            "Digite um inteiro positivo n: 7\n",
            "1\n",
            "1\n",
            "2\n",
            "3\n",
            "5\n",
            "8\n",
            "13\n"
          ],
          "name": "stdout"
        }
      ]
    }
  ]
}